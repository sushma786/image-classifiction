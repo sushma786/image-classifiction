{
  "nbformat": 4,
  "nbformat_minor": 0,
  "metadata": {
    "colab": {
      "name": "minor project.ipynb",
      "provenance": [],
      "collapsed_sections": [],
      "authorship_tag": "ABX9TyPCxdbDpGZ6FAxAYvCuu8X+",
      "include_colab_link": true
    },
    "kernelspec": {
      "name": "python3",
      "display_name": "Python 3"
    },
    "language_info": {
      "name": "python"
    }
  },
  "cells": [
    {
      "cell_type": "markdown",
      "metadata": {
        "id": "view-in-github",
        "colab_type": "text"
      },
      "source": [
        "<a href=\"https://colab.research.google.com/github/sushma786/image-classifiction/blob/main/minor_project.ipynb\" target=\"_parent\"><img src=\"https://colab.research.google.com/assets/colab-badge.svg\" alt=\"Open In Colab\"/></a>"
      ]
    },
    {
      "cell_type": "code",
      "metadata": {
        "colab": {
          "base_uri": "https://localhost:8080/"
        },
        "id": "hx50GCxIPMPU",
        "outputId": "841c2e9f-bd21-468b-d298-bc9ee5d481ae"
      },
      "source": [
        "!pip install ipython-autotime\n",
        "%load_ext autotime"
      ],
      "execution_count": 1,
      "outputs": [
        {
          "output_type": "stream",
          "text": [
            "Collecting ipython-autotime\n",
            "  Downloading https://files.pythonhosted.org/packages/b4/c9/b413a24f759641bc27ef98c144b590023c8038dfb8a3f09e713e9dff12c1/ipython_autotime-0.3.1-py2.py3-none-any.whl\n",
            "Requirement already satisfied: ipython in /usr/local/lib/python3.7/dist-packages (from ipython-autotime) (5.5.0)\n",
            "Requirement already satisfied: decorator in /usr/local/lib/python3.7/dist-packages (from ipython->ipython-autotime) (4.4.2)\n",
            "Requirement already satisfied: pexpect; sys_platform != \"win32\" in /usr/local/lib/python3.7/dist-packages (from ipython->ipython-autotime) (4.8.0)\n",
            "Requirement already satisfied: setuptools>=18.5 in /usr/local/lib/python3.7/dist-packages (from ipython->ipython-autotime) (56.0.0)\n",
            "Requirement already satisfied: simplegeneric>0.8 in /usr/local/lib/python3.7/dist-packages (from ipython->ipython-autotime) (0.8.1)\n",
            "Requirement already satisfied: traitlets>=4.2 in /usr/local/lib/python3.7/dist-packages (from ipython->ipython-autotime) (5.0.5)\n",
            "Requirement already satisfied: pygments in /usr/local/lib/python3.7/dist-packages (from ipython->ipython-autotime) (2.6.1)\n",
            "Requirement already satisfied: pickleshare in /usr/local/lib/python3.7/dist-packages (from ipython->ipython-autotime) (0.7.5)\n",
            "Requirement already satisfied: prompt-toolkit<2.0.0,>=1.0.4 in /usr/local/lib/python3.7/dist-packages (from ipython->ipython-autotime) (1.0.18)\n",
            "Requirement already satisfied: ptyprocess>=0.5 in /usr/local/lib/python3.7/dist-packages (from pexpect; sys_platform != \"win32\"->ipython->ipython-autotime) (0.7.0)\n",
            "Requirement already satisfied: ipython-genutils in /usr/local/lib/python3.7/dist-packages (from traitlets>=4.2->ipython->ipython-autotime) (0.2.0)\n",
            "Requirement already satisfied: wcwidth in /usr/local/lib/python3.7/dist-packages (from prompt-toolkit<2.0.0,>=1.0.4->ipython->ipython-autotime) (0.2.5)\n",
            "Requirement already satisfied: six>=1.9.0 in /usr/local/lib/python3.7/dist-packages (from prompt-toolkit<2.0.0,>=1.0.4->ipython->ipython-autotime) (1.15.0)\n",
            "Installing collected packages: ipython-autotime\n",
            "Successfully installed ipython-autotime-0.3.1\n",
            "time: 2.51 ms (started: 2021-04-30 08:54:08 +00:00)\n"
          ],
          "name": "stdout"
        }
      ]
    },
    {
      "cell_type": "code",
      "metadata": {
        "colab": {
          "base_uri": "https://localhost:8080/"
        },
        "id": "2gqqdBPBu_y1",
        "outputId": "0182a434-8e30-42c2-a1e1-2af61b3134d9"
      },
      "source": [
        "!pip install bing-image-downloader"
      ],
      "execution_count": 2,
      "outputs": [
        {
          "output_type": "stream",
          "text": [
            "Collecting bing-image-downloader\n",
            "  Downloading https://files.pythonhosted.org/packages/0d/bf/537a61030b84ae4cd5022d5c7b014fd9bc3ce7c02358919153a6658a61d3/bing_image_downloader-1.0.4-py3-none-any.whl\n",
            "Installing collected packages: bing-image-downloader\n",
            "Successfully installed bing-image-downloader-1.0.4\n",
            "time: 2.94 s (started: 2021-04-30 08:54:12 +00:00)\n"
          ],
          "name": "stdout"
        }
      ]
    },
    {
      "cell_type": "code",
      "metadata": {
        "id": "jzakzdPJ7P9B",
        "colab": {
          "base_uri": "https://localhost:8080/"
        },
        "outputId": "c01fce76-a228-4897-edf1-f08f71d1c343"
      },
      "source": [
        "!mkdir images"
      ],
      "execution_count": null,
      "outputs": [
        {
          "output_type": "stream",
          "text": [
            "mkdir: cannot create directory ‘images’: File exists\n"
          ],
          "name": "stdout"
        }
      ]
    },
    {
      "cell_type": "code",
      "metadata": {
        "colab": {
          "base_uri": "https://localhost:8080/"
        },
        "id": "Gi_FwfIs70Md",
        "outputId": "9d1ddcc6-4acb-4a20-dd21-c54915afd8f9"
      },
      "source": [
        "from bing_image_downloader import downloader\n",
        "downloader.download('rugby ball leather',limit=30,output_dir='images',\n",
        "                    adult_filter_off=True) "
      ],
      "execution_count": 5,
      "outputs": [
        {
          "output_type": "stream",
          "text": [
            "\n",
            "\n",
            "[!!]Indexing page: 1\n",
            "\n",
            "[%] Indexed 12 Images on Page 1.\n",
            "\n",
            "===============================================\n",
            "\n",
            "[%] Downloading Image #1 from https://cdn1.bigcommerce.com/server1000/4dd02/products/682/images/3492/_MG_0374v2__78298.1332357807.455.455.jpg?c=2\n",
            "[%] File Downloaded !\n",
            "\n",
            "[%] Downloading Image #2 from https://cdn.notonthehighstreet.com/fs/6d/b6/5cda-1aa6-492c-b641-ff1185634649/original_leather-rugby-shaped-washbag.jpg\n",
            "[%] File Downloaded !\n",
            "\n",
            "[%] Downloading Image #3 from https://cdn.notonthehighstreet.com/fs/14/cb/45f8-4377-4358-9cc0-36c127d448d0/original_personalised-vintage-leather-rugby-ball.jpg\n",
            "[%] File Downloaded !\n",
            "\n",
            "[%] Downloading Image #4 from https://static.vecteezy.com/system/resources/previews/000/104/104/original/vector-football-texture-and-lace.jpg\n",
            "[%] File Downloaded !\n",
            "\n",
            "[%] Downloading Image #5 from https://d2gg9evh47fn9z.cloudfront.net/800px_COLOURBOX19173696.jpg\n",
            "[%] File Downloaded !\n",
            "\n",
            "[%] Downloading Image #6 from https://www.rasasports.com/antiquefootball/image017.jpg\n",
            "[Error]Invalid image, not saving https://www.rasasports.com/antiquefootball/image017.jpg\n",
            "\n",
            "[!] Issue getting: https://www.rasasports.com/antiquefootball/image017.jpg\n",
            "[!] Error:: No active exception to reraise\n",
            "[%] Downloading Image #6 from https://cdn.pixabay.com/photo/2014/04/03/11/08/american-football-311817_640.png\n",
            "[%] File Downloaded !\n",
            "\n",
            "[%] Downloading Image #7 from https://media.istockphoto.com/vectors/football-drawing-vector-id490813150\n",
            "[%] File Downloaded !\n",
            "\n",
            "[%] Downloading Image #8 from https://www.john-woodbridge.com/1062-tm_thickbox_default/balle-de-baseball.jpg\n",
            "[%] File Downloaded !\n",
            "\n",
            "[%] Downloading Image #9 from https://cdn.theschoollocker.com.au/media/catalog/product/cache/1/image/500x650/9df78eab33525d08d6e5fb8d27136e95/s/h/sherrin_afl_ball_synthetic_size_2_red_11077_1_1.jpg\n",
            "[%] File Downloaded !\n",
            "\n",
            "[%] Downloading Image #10 from https://www.prodirectrugby.com/productimages/V3_1_Gallery_1/62289.jpg\n",
            "[!] Issue getting: https://www.prodirectrugby.com/productimages/V3_1_Gallery_1/62289.jpg\n",
            "[!] Error:: HTTP Error 403: Forbidden\n",
            "[%] Downloading Image #10 from https://cdn.vox-cdn.com/thumbor/Cmc69AQKqpZxQelaWYvIkdqAx7A=/0x0:3070x2047/1200x800/filters:focal(1347x661:1837x1151)/cdn.vox-cdn.com/uploads/chorus_image/image/57259811/865138828.0.jpg\n",
            "[%] File Downloaded !\n",
            "\n",
            "\n",
            "\n",
            "[!!]Indexing page: 2\n",
            "\n",
            "[%] Indexed 12 Images on Page 2.\n",
            "\n",
            "===============================================\n",
            "\n",
            "[%] Downloading Image #11 from https://cdn1.bigcommerce.com/server1000/4dd02/products/682/images/3492/_MG_0374v2__78298.1332357807.455.455.jpg?c=2\n",
            "[%] File Downloaded !\n",
            "\n",
            "[%] Downloading Image #12 from https://cdn.notonthehighstreet.com/fs/6d/b6/5cda-1aa6-492c-b641-ff1185634649/original_leather-rugby-shaped-washbag.jpg\n",
            "[%] File Downloaded !\n",
            "\n",
            "[%] Downloading Image #13 from https://cdn.notonthehighstreet.com/fs/14/cb/45f8-4377-4358-9cc0-36c127d448d0/original_personalised-vintage-leather-rugby-ball.jpg\n",
            "[%] File Downloaded !\n",
            "\n",
            "[%] Downloading Image #14 from https://static.vecteezy.com/system/resources/previews/000/104/104/original/vector-football-texture-and-lace.jpg\n",
            "[%] File Downloaded !\n",
            "\n",
            "[%] Downloading Image #15 from https://d2gg9evh47fn9z.cloudfront.net/800px_COLOURBOX19173696.jpg\n",
            "[%] File Downloaded !\n",
            "\n",
            "[%] Downloading Image #16 from https://www.rasasports.com/antiquefootball/image017.jpg\n",
            "[Error]Invalid image, not saving https://www.rasasports.com/antiquefootball/image017.jpg\n",
            "\n",
            "[!] Issue getting: https://www.rasasports.com/antiquefootball/image017.jpg\n",
            "[!] Error:: No active exception to reraise\n",
            "[%] Downloading Image #16 from https://cdn.pixabay.com/photo/2014/04/03/11/08/american-football-311817_640.png\n",
            "[%] File Downloaded !\n",
            "\n",
            "[%] Downloading Image #17 from https://media.istockphoto.com/vectors/football-drawing-vector-id490813150\n",
            "[%] File Downloaded !\n",
            "\n",
            "[%] Downloading Image #18 from https://www.john-woodbridge.com/1062-tm_thickbox_default/balle-de-baseball.jpg\n",
            "[%] File Downloaded !\n",
            "\n",
            "[%] Downloading Image #19 from https://cdn.theschoollocker.com.au/media/catalog/product/cache/1/image/500x650/9df78eab33525d08d6e5fb8d27136e95/s/h/sherrin_afl_ball_synthetic_size_2_red_11077_1_1.jpg\n",
            "[%] File Downloaded !\n",
            "\n",
            "[%] Downloading Image #20 from https://www.prodirectrugby.com/productimages/V3_1_Gallery_1/62289.jpg\n",
            "[!] Issue getting: https://www.prodirectrugby.com/productimages/V3_1_Gallery_1/62289.jpg\n",
            "[!] Error:: HTTP Error 403: Forbidden\n",
            "[%] Downloading Image #20 from https://cdn.vox-cdn.com/thumbor/Cmc69AQKqpZxQelaWYvIkdqAx7A=/0x0:3070x2047/1200x800/filters:focal(1347x661:1837x1151)/cdn.vox-cdn.com/uploads/chorus_image/image/57259811/865138828.0.jpg\n",
            "[%] File Downloaded !\n",
            "\n",
            "\n",
            "\n",
            "[!!]Indexing page: 3\n",
            "\n",
            "[%] Indexed 11 Images on Page 3.\n",
            "\n",
            "===============================================\n",
            "\n",
            "[%] Downloading Image #21 from https://cdn.notonthehighstreet.com/fs/6d/b6/5cda-1aa6-492c-b641-ff1185634649/original_leather-rugby-shaped-washbag.jpg\n",
            "[%] File Downloaded !\n",
            "\n",
            "[%] Downloading Image #22 from https://cdn.notonthehighstreet.com/fs/14/cb/45f8-4377-4358-9cc0-36c127d448d0/original_personalised-vintage-leather-rugby-ball.jpg\n",
            "[%] File Downloaded !\n",
            "\n",
            "[%] Downloading Image #23 from https://static.vecteezy.com/system/resources/previews/000/104/104/original/vector-football-texture-and-lace.jpg\n",
            "[%] File Downloaded !\n",
            "\n",
            "[%] Downloading Image #24 from https://d2gg9evh47fn9z.cloudfront.net/800px_COLOURBOX19173696.jpg\n",
            "[%] File Downloaded !\n",
            "\n",
            "[%] Downloading Image #25 from https://www.rasasports.com/antiquefootball/image017.jpg\n",
            "[Error]Invalid image, not saving https://www.rasasports.com/antiquefootball/image017.jpg\n",
            "\n",
            "[!] Issue getting: https://www.rasasports.com/antiquefootball/image017.jpg\n",
            "[!] Error:: No active exception to reraise\n",
            "[%] Downloading Image #25 from https://cdn.pixabay.com/photo/2014/04/03/11/08/american-football-311817_640.png\n",
            "[%] File Downloaded !\n",
            "\n",
            "[%] Downloading Image #26 from https://media.istockphoto.com/vectors/football-drawing-vector-id490813150\n",
            "[%] File Downloaded !\n",
            "\n",
            "[%] Downloading Image #27 from https://www.john-woodbridge.com/1062-tm_thickbox_default/balle-de-baseball.jpg\n",
            "[%] File Downloaded !\n",
            "\n",
            "[%] Downloading Image #28 from https://cdn.theschoollocker.com.au/media/catalog/product/cache/1/image/500x650/9df78eab33525d08d6e5fb8d27136e95/s/h/sherrin_afl_ball_synthetic_size_2_red_11077_1_1.jpg\n",
            "[%] File Downloaded !\n",
            "\n",
            "[%] Downloading Image #29 from https://www.prodirectrugby.com/productimages/V3_1_Gallery_1/62289.jpg\n",
            "[!] Issue getting: https://www.prodirectrugby.com/productimages/V3_1_Gallery_1/62289.jpg\n",
            "[!] Error:: HTTP Error 403: Forbidden\n",
            "[%] Downloading Image #29 from https://cdn.vox-cdn.com/thumbor/Cmc69AQKqpZxQelaWYvIkdqAx7A=/0x0:3070x2047/1200x800/filters:focal(1347x661:1837x1151)/cdn.vox-cdn.com/uploads/chorus_image/image/57259811/865138828.0.jpg\n",
            "[%] File Downloaded !\n",
            "\n",
            "\n",
            "\n",
            "[!!]Indexing page: 4\n",
            "\n",
            "[%] Indexed 10 Images on Page 4.\n",
            "\n",
            "===============================================\n",
            "\n",
            "[%] Downloading Image #30 from https://cdn.notonthehighstreet.com/fs/14/cb/45f8-4377-4358-9cc0-36c127d448d0/original_personalised-vintage-leather-rugby-ball.jpg\n",
            "[%] File Downloaded !\n",
            "\n",
            "\n",
            "\n",
            "[%] Done. Downloaded 30 images.\n",
            "\n",
            "===============================================\n",
            "\n",
            "time: 8.26 s (started: 2021-04-30 08:55:35 +00:00)\n"
          ],
          "name": "stdout"
        }
      ]
    },
    {
      "cell_type": "code",
      "metadata": {
        "colab": {
          "base_uri": "https://localhost:8080/"
        },
        "id": "JZsBW8jcMKWq",
        "outputId": "17d7a2f3-52c5-4b2e-c39b-8e9cf0f64ac9"
      },
      "source": [
        "import numpy as np\n",
        "\n",
        "a= np.array([[1,2,3,4,5],\n",
        "             [4,5,6,7,8]])\n",
        "a.ndim"
      ],
      "execution_count": 195,
      "outputs": [
        {
          "output_type": "execute_result",
          "data": {
            "text/plain": [
              "2"
            ]
          },
          "metadata": {
            "tags": []
          },
          "execution_count": 195
        },
        {
          "output_type": "stream",
          "text": [
            "time: 10.4 ms (started: 2021-04-30 13:26:54 +00:00)\n"
          ],
          "name": "stdout"
        }
      ]
    },
    {
      "cell_type": "code",
      "metadata": {
        "colab": {
          "base_uri": "https://localhost:8080/"
        },
        "id": "4f97KbUvZaEW",
        "outputId": "bec3fb9d-84b4-43f6-a19e-c6289875d4d2"
      },
      "source": [
        "# how do i convert matrix to vector ie flatten()\n",
        "a.flatten()"
      ],
      "execution_count": 7,
      "outputs": [
        {
          "output_type": "execute_result",
          "data": {
            "text/plain": [
              "array([1, 2, 3, 4, 5, 4, 5, 6, 7, 8])"
            ]
          },
          "metadata": {
            "tags": []
          },
          "execution_count": 7
        },
        {
          "output_type": "stream",
          "text": [
            "time: 13.5 ms (started: 2021-04-30 08:56:41 +00:00)\n"
          ],
          "name": "stdout"
        }
      ]
    },
    {
      "cell_type": "code",
      "metadata": {
        "colab": {
          "base_uri": "https://localhost:8080/"
        },
        "id": "upJWxR3kEgSJ",
        "outputId": "64886d53-8631-4016-ab8e-91c6efdb0cbe"
      },
      "source": [
        "#preprocessing\n",
        "# 1. resize\n",
        "# 2. flattening\n",
        "import os\n",
        "import matplotlib.pyplot as plt\n",
        "import numpy as np\n",
        "from skimage.io import imread\n",
        "from skimage.transform import resize\n",
        "\n",
        "target =[]\n",
        "images = []\n",
        "flat_data = []\n",
        "\n",
        "DATADIR = '/content/images'\n",
        "CATEGORIES = ['pretty sunflower','rugby ball leather','ice cream cone']\n",
        "\n",
        "for category in CATEGORIES:\n",
        "  class_num = CATEGORIES.index(category)\n",
        "  path = os.path.join(DATADIR,category)\n",
        "  for img in os.listdir(path):\n",
        "    img_array = imread(os.path.join(path,img))\n",
        "    #print(img_array.shape)\n",
        "    #plt.imshow(img_array)\n",
        "    img_resized = resize(img_array,(150,150,3))\n",
        "    flat_data.append(img_resized.flatten())\n",
        "    images.append(img_resized)\n",
        "    target.append(class_num)\n",
        "\n",
        "flat_data = np.array(flat_data)\n",
        "target = np.array(target)\n",
        "images = np.array(images)\n",
        "\n",
        "\n",
        "   \n",
        "  \n",
        "\n"
      ],
      "execution_count": 8,
      "outputs": [
        {
          "output_type": "stream",
          "text": [
            "time: 11.8 s (started: 2021-04-30 08:57:00 +00:00)\n"
          ],
          "name": "stdout"
        }
      ]
    },
    {
      "cell_type": "code",
      "metadata": {
        "colab": {
          "base_uri": "https://localhost:8080/"
        },
        "id": "IW5X3M06OHFl",
        "outputId": "a3a85bba-cf9b-41cc-c687-dcd34191ef95"
      },
      "source": [
        "len(flat_data[0])"
      ],
      "execution_count": 9,
      "outputs": [
        {
          "output_type": "execute_result",
          "data": {
            "text/plain": [
              "67500"
            ]
          },
          "metadata": {
            "tags": []
          },
          "execution_count": 9
        },
        {
          "output_type": "stream",
          "text": [
            "time: 4.95 ms (started: 2021-04-30 08:57:21 +00:00)\n"
          ],
          "name": "stdout"
        }
      ]
    },
    {
      "cell_type": "code",
      "metadata": {
        "colab": {
          "base_uri": "https://localhost:8080/"
        },
        "id": "fRAzrDstOlWc",
        "outputId": "6b97865d-49b2-4d6c-dd6d-44823cb032b3"
      },
      "source": [
        "150*150*3"
      ],
      "execution_count": 192,
      "outputs": [
        {
          "output_type": "execute_result",
          "data": {
            "text/plain": [
              "67500"
            ]
          },
          "metadata": {
            "tags": []
          },
          "execution_count": 192
        },
        {
          "output_type": "stream",
          "text": [
            "time: 5.83 ms (started: 2021-04-30 13:25:01 +00:00)\n"
          ],
          "name": "stdout"
        }
      ]
    },
    {
      "cell_type": "code",
      "metadata": {
        "colab": {
          "base_uri": "https://localhost:8080/"
        },
        "id": "F1t50mODOwps",
        "outputId": "99b2b25d-d5f9-4bd2-ba93-61e2204eaf48"
      },
      "source": [
        "target"
      ],
      "execution_count": 179,
      "outputs": [
        {
          "output_type": "execute_result",
          "data": {
            "text/plain": [
              "array([0, 0, 0, 0, 0, 0, 0, 0, 0, 0, 0, 0, 0, 0, 0, 0, 0, 0, 0, 0, 0, 0,\n",
              "       0, 0, 0, 0, 0, 0, 0, 0, 1, 1, 1, 1, 1, 1, 1, 1, 1, 1, 1, 1, 1, 1,\n",
              "       1, 1, 1, 1, 1, 1, 1, 1, 1, 1, 1, 1, 1, 1, 1, 1, 2, 2, 2, 2, 2, 2,\n",
              "       2, 2, 2, 2, 2, 2, 2, 2, 2, 2, 2, 2, 2, 2, 2, 2, 2, 2, 2, 2, 2, 2,\n",
              "       2, 2])"
            ]
          },
          "metadata": {
            "tags": []
          },
          "execution_count": 179
        },
        {
          "output_type": "stream",
          "text": [
            "time: 4.71 ms (started: 2021-04-30 13:21:51 +00:00)\n"
          ],
          "name": "stdout"
        }
      ]
    },
    {
      "cell_type": "code",
      "metadata": {
        "colab": {
          "base_uri": "https://localhost:8080/",
          "height": 300
        },
        "id": "XIRBrkAAO8SE",
        "outputId": "2eaa66fe-76e8-437b-d0ef-a47533f5844c"
      },
      "source": [
        "unique,count = np.unique(target,return_counts=True)\n",
        "plt.bar(CATEGORIES,count)"
      ],
      "execution_count": 180,
      "outputs": [
        {
          "output_type": "execute_result",
          "data": {
            "text/plain": [
              "<BarContainer object of 3 artists>"
            ]
          },
          "metadata": {
            "tags": []
          },
          "execution_count": 180
        },
        {
          "output_type": "display_data",
          "data": {
            "image/png": "[encoded data removed]",
            "text/plain": [
              "<Figure size 432x288 with 1 Axes>"
            ]
          },
          "metadata": {
            "tags": [],
            "needs_background": "light"
          }
        },
        {
          "output_type": "stream",
          "text": [
            "time: 140 ms (started: 2021-04-30 13:21:59 +00:00)\n"
          ],
          "name": "stdout"
        }
      ]
    },
    {
      "cell_type": "code",
      "metadata": {
        "colab": {
          "base_uri": "https://localhost:8080/"
        },
        "id": "GR5EBl5GRTBe",
        "outputId": "406cbe6f-9ed5-4c43-eb92-cf5a236f00b9"
      },
      "source": [
        "#split data into training and testing\n",
        "from sklearn.model_selection import train_test_split\n",
        "x_train,x_test,y_train,y_test = train_test_split(flat_data,target,\n",
        "                                                 test_size=0.3,random_state=109)\n"
      ],
      "execution_count": 93,
      "outputs": [
        {
          "output_type": "stream",
          "text": [
            "time: 17 ms (started: 2021-04-30 11:02:01 +00:00)\n"
          ],
          "name": "stdout"
        }
      ]
    },
    {
      "cell_type": "code",
      "metadata": {
        "colab": {
          "base_uri": "https://localhost:8080/"
        },
        "id": "DiLaru4DHP6A",
        "outputId": "07f1397d-d832-4f44-dc9f-508416e234f4"
      },
      "source": [
        "from sklearn.model_selection import GridSearchCV\n",
        "from sklearn import svm\n",
        "param_grid = [{'C': [1,10,100,1000],'kernel':['linear']},  \n",
        "              {'c': [1,10,100,1000],'gamma':[0.001,0.0001],\n",
        "               'kernel': ['rbf']}]\n",
        "\n",
        "svc = svm.SVC(probability=True)\n",
        "clf = GridSearchCV(svc,param_grid)\n",
        "clf.fit"
      ],
      "execution_count": 165,
      "outputs": [
        {
          "output_type": "execute_result",
          "data": {
            "text/plain": [
              "<bound method BaseSearchCV.fit of GridSearchCV(cv=None, error_score=nan,\n",
              "             estimator=SVC(C=1.0, break_ties=False, cache_size=200,\n",
              "                           class_weight=None, coef0=0.0,\n",
              "                           decision_function_shape='ovr', degree=3,\n",
              "                           gamma='scale', kernel='rbf', max_iter=-1,\n",
              "                           probability=True, random_state=None, shrinking=True,\n",
              "                           tol=0.001, verbose=False),\n",
              "             iid='deprecated', n_jobs=None,\n",
              "             param_grid=[{'C': [1, 10, 100, 1000], 'kernel': ['linear']},\n",
              "                         {'c': [1, 10, 100, 1000], 'gamma': [0.001, 0.0001],\n",
              "                          'kernel': ['rbf']}],\n",
              "             pre_dispatch='2*n_jobs', refit=True, return_train_score=False,\n",
              "             scoring=None, verbose=0)>"
            ]
          },
          "metadata": {
            "tags": []
          },
          "execution_count": 165
        },
        {
          "output_type": "stream",
          "text": [
            "time: 15.6 ms (started: 2021-04-30 12:44:28 +00:00)\n"
          ],
          "name": "stdout"
        }
      ]
    },
    {
      "cell_type": "code",
      "metadata": {
        "colab": {
          "base_uri": "https://localhost:8080/",
          "height": 370
        },
        "id": "gj0j_POixOEA",
        "outputId": "5c0d0899-ed00-4e36-9e02-6a1c1ea69758"
      },
      "source": [
        "\n",
        "y_pred = clf.predict(x_test)\n",
        "y_pred"
      ],
      "execution_count": 166,
      "outputs": [
        {
          "output_type": "error",
          "ename": "NotFittedError",
          "evalue": "ignored",
          "traceback": [
            "\u001b[0;31m---------------------------------------------------------------------------\u001b[0m",
            "\u001b[0;31mNotFittedError\u001b[0m                            Traceback (most recent call last)",
            "\u001b[0;32m<ipython-input-166-16c9190880c7>\u001b[0m in \u001b[0;36m<module>\u001b[0;34m()\u001b[0m\n\u001b[1;32m      1\u001b[0m \u001b[0;34m\u001b[0m\u001b[0m\n\u001b[0;32m----> 2\u001b[0;31m \u001b[0my_pred\u001b[0m \u001b[0;34m=\u001b[0m \u001b[0mclf\u001b[0m\u001b[0;34m.\u001b[0m\u001b[0mpredict\u001b[0m\u001b[0;34m(\u001b[0m\u001b[0mx_test\u001b[0m\u001b[0;34m)\u001b[0m\u001b[0;34m\u001b[0m\u001b[0;34m\u001b[0m\u001b[0m\n\u001b[0m\u001b[1;32m      3\u001b[0m \u001b[0my_pred\u001b[0m\u001b[0;34m\u001b[0m\u001b[0;34m\u001b[0m\u001b[0m\n",
            "\u001b[0;32m/usr/local/lib/python3.7/dist-packages/sklearn/utils/metaestimators.py\u001b[0m in \u001b[0;36m<lambda>\u001b[0;34m(*args, **kwargs)\u001b[0m\n\u001b[1;32m    114\u001b[0m \u001b[0;34m\u001b[0m\u001b[0m\n\u001b[1;32m    115\u001b[0m         \u001b[0;31m# lambda, but not partial, allows help() to work with update_wrapper\u001b[0m\u001b[0;34m\u001b[0m\u001b[0;34m\u001b[0m\u001b[0;34m\u001b[0m\u001b[0m\n\u001b[0;32m--> 116\u001b[0;31m         \u001b[0mout\u001b[0m \u001b[0;34m=\u001b[0m \u001b[0;32mlambda\u001b[0m \u001b[0;34m*\u001b[0m\u001b[0margs\u001b[0m\u001b[0;34m,\u001b[0m \u001b[0;34m**\u001b[0m\u001b[0mkwargs\u001b[0m\u001b[0;34m:\u001b[0m \u001b[0mself\u001b[0m\u001b[0;34m.\u001b[0m\u001b[0mfn\u001b[0m\u001b[0;34m(\u001b[0m\u001b[0mobj\u001b[0m\u001b[0;34m,\u001b[0m \u001b[0;34m*\u001b[0m\u001b[0margs\u001b[0m\u001b[0;34m,\u001b[0m \u001b[0;34m**\u001b[0m\u001b[0mkwargs\u001b[0m\u001b[0;34m)\u001b[0m\u001b[0;34m\u001b[0m\u001b[0;34m\u001b[0m\u001b[0m\n\u001b[0m\u001b[1;32m    117\u001b[0m         \u001b[0;31m# update the docstring of the returned function\u001b[0m\u001b[0;34m\u001b[0m\u001b[0;34m\u001b[0m\u001b[0;34m\u001b[0m\u001b[0m\n\u001b[1;32m    118\u001b[0m         \u001b[0mupdate_wrapper\u001b[0m\u001b[0;34m(\u001b[0m\u001b[0mout\u001b[0m\u001b[0;34m,\u001b[0m \u001b[0mself\u001b[0m\u001b[0;34m.\u001b[0m\u001b[0mfn\u001b[0m\u001b[0;34m)\u001b[0m\u001b[0;34m\u001b[0m\u001b[0;34m\u001b[0m\u001b[0m\n",
            "\u001b[0;32m/usr/local/lib/python3.7/dist-packages/sklearn/model_selection/_search.py\u001b[0m in \u001b[0;36mpredict\u001b[0;34m(self, X)\u001b[0m\n\u001b[1;32m    474\u001b[0m \u001b[0;34m\u001b[0m\u001b[0m\n\u001b[1;32m    475\u001b[0m         \"\"\"\n\u001b[0;32m--> 476\u001b[0;31m         \u001b[0mself\u001b[0m\u001b[0;34m.\u001b[0m\u001b[0m_check_is_fitted\u001b[0m\u001b[0;34m(\u001b[0m\u001b[0;34m'predict'\u001b[0m\u001b[0;34m)\u001b[0m\u001b[0;34m\u001b[0m\u001b[0;34m\u001b[0m\u001b[0m\n\u001b[0m\u001b[1;32m    477\u001b[0m         \u001b[0;32mreturn\u001b[0m \u001b[0mself\u001b[0m\u001b[0;34m.\u001b[0m\u001b[0mbest_estimator_\u001b[0m\u001b[0;34m.\u001b[0m\u001b[0mpredict\u001b[0m\u001b[0;34m(\u001b[0m\u001b[0mX\u001b[0m\u001b[0;34m)\u001b[0m\u001b[0;34m\u001b[0m\u001b[0;34m\u001b[0m\u001b[0m\n\u001b[1;32m    478\u001b[0m \u001b[0;34m\u001b[0m\u001b[0m\n",
            "\u001b[0;32m/usr/local/lib/python3.7/dist-packages/sklearn/model_selection/_search.py\u001b[0m in \u001b[0;36m_check_is_fitted\u001b[0;34m(self, method_name)\u001b[0m\n\u001b[1;32m    458\u001b[0m                                  % (type(self).__name__, method_name))\n\u001b[1;32m    459\u001b[0m         \u001b[0;32melse\u001b[0m\u001b[0;34m:\u001b[0m\u001b[0;34m\u001b[0m\u001b[0;34m\u001b[0m\u001b[0m\n\u001b[0;32m--> 460\u001b[0;31m             \u001b[0mcheck_is_fitted\u001b[0m\u001b[0;34m(\u001b[0m\u001b[0mself\u001b[0m\u001b[0;34m)\u001b[0m\u001b[0;34m\u001b[0m\u001b[0;34m\u001b[0m\u001b[0m\n\u001b[0m\u001b[1;32m    461\u001b[0m \u001b[0;34m\u001b[0m\u001b[0m\n\u001b[1;32m    462\u001b[0m     \u001b[0;34m@\u001b[0m\u001b[0mif_delegate_has_method\u001b[0m\u001b[0;34m(\u001b[0m\u001b[0mdelegate\u001b[0m\u001b[0;34m=\u001b[0m\u001b[0;34m(\u001b[0m\u001b[0;34m'best_estimator_'\u001b[0m\u001b[0;34m,\u001b[0m \u001b[0;34m'estimator'\u001b[0m\u001b[0;34m)\u001b[0m\u001b[0;34m)\u001b[0m\u001b[0;34m\u001b[0m\u001b[0;34m\u001b[0m\u001b[0m\n",
            "\u001b[0;32m/usr/local/lib/python3.7/dist-packages/sklearn/utils/validation.py\u001b[0m in \u001b[0;36mcheck_is_fitted\u001b[0;34m(estimator, attributes, msg, all_or_any)\u001b[0m\n\u001b[1;32m    965\u001b[0m \u001b[0;34m\u001b[0m\u001b[0m\n\u001b[1;32m    966\u001b[0m     \u001b[0;32mif\u001b[0m \u001b[0;32mnot\u001b[0m \u001b[0mattrs\u001b[0m\u001b[0;34m:\u001b[0m\u001b[0;34m\u001b[0m\u001b[0;34m\u001b[0m\u001b[0m\n\u001b[0;32m--> 967\u001b[0;31m         \u001b[0;32mraise\u001b[0m \u001b[0mNotFittedError\u001b[0m\u001b[0;34m(\u001b[0m\u001b[0mmsg\u001b[0m \u001b[0;34m%\u001b[0m \u001b[0;34m{\u001b[0m\u001b[0;34m'name'\u001b[0m\u001b[0;34m:\u001b[0m \u001b[0mtype\u001b[0m\u001b[0;34m(\u001b[0m\u001b[0mestimator\u001b[0m\u001b[0;34m)\u001b[0m\u001b[0;34m.\u001b[0m\u001b[0m__name__\u001b[0m\u001b[0;34m}\u001b[0m\u001b[0;34m)\u001b[0m\u001b[0;34m\u001b[0m\u001b[0;34m\u001b[0m\u001b[0m\n\u001b[0m\u001b[1;32m    968\u001b[0m \u001b[0;34m\u001b[0m\u001b[0m\n\u001b[1;32m    969\u001b[0m \u001b[0;34m\u001b[0m\u001b[0m\n",
            "\u001b[0;31mNotFittedError\u001b[0m: This GridSearchCV instance is not fitted yet. Call 'fit' with appropriate arguments before using this estimator."
          ]
        },
        {
          "output_type": "stream",
          "text": [
            "time: 16.2 ms (started: 2021-04-30 12:45:00 +00:00)\n"
          ],
          "name": "stdout"
        }
      ]
    },
    {
      "cell_type": "code",
      "metadata": {
        "colab": {
          "base_uri": "https://localhost:8080/"
        },
        "id": "dKezwJhZOHF1",
        "outputId": "f608bcc9-23f6-4684-8e0f-ce9611453a87"
      },
      "source": [
        "\n",
        "import numpy as np \n",
        "y_pred = np.zeros(27)"
      ],
      "execution_count": 181,
      "outputs": [
        {
          "output_type": "stream",
          "text": [
            "time: 1.3 ms (started: 2021-04-30 13:22:13 +00:00)\n"
          ],
          "name": "stdout"
        }
      ]
    },
    {
      "cell_type": "code",
      "metadata": {
        "id": "cweRTffFwP33"
      },
      "source": [
        ""
      ],
      "execution_count": null,
      "outputs": []
    },
    {
      "cell_type": "code",
      "metadata": {
        "colab": {
          "base_uri": "https://localhost:8080/"
        },
        "id": "DhdMjNpiQG2F",
        "outputId": "2ef34375-503d-459f-9dd9-35fdb92048dc"
      },
      "source": [
        "\n",
        "y_test"
      ],
      "execution_count": 182,
      "outputs": [
        {
          "output_type": "execute_result",
          "data": {
            "text/plain": [
              "array([1, 0, 1, 2, 2, 1, 0, 1, 1, 0, 1, 0, 1, 2, 2, 1, 2, 1, 0, 1, 2, 2,\n",
              "       2, 0, 0, 0, 1])"
            ]
          },
          "metadata": {
            "tags": []
          },
          "execution_count": 182
        },
        {
          "output_type": "stream",
          "text": [
            "time: 4.46 ms (started: 2021-04-30 13:22:17 +00:00)\n"
          ],
          "name": "stdout"
        }
      ]
    },
    {
      "cell_type": "code",
      "metadata": {
        "colab": {
          "base_uri": "https://localhost:8080/"
        },
        "id": "ZMTkHQbQQehn",
        "outputId": "fc743bc8-e149-44fd-bb1e-86dd557389e2"
      },
      "source": [
        "from sklearn.metrics import accuracy_score,confusion_matrix"
      ],
      "execution_count": 183,
      "outputs": [
        {
          "output_type": "stream",
          "text": [
            "time: 1.21 ms (started: 2021-04-30 13:22:25 +00:00)\n"
          ],
          "name": "stdout"
        }
      ]
    },
    {
      "cell_type": "code",
      "metadata": {
        "colab": {
          "base_uri": "https://localhost:8080/"
        },
        "id": "1lWiipzPQwhI",
        "outputId": "dba3b35a-e48b-461c-d90d-640069ce28c9"
      },
      "source": [
        "accuracy_score(y_pred,y_test)"
      ],
      "execution_count": 184,
      "outputs": [
        {
          "output_type": "execute_result",
          "data": {
            "text/plain": [
              "0.2962962962962963"
            ]
          },
          "metadata": {
            "tags": []
          },
          "execution_count": 184
        },
        {
          "output_type": "stream",
          "text": [
            "time: 6.18 ms (started: 2021-04-30 13:22:28 +00:00)\n"
          ],
          "name": "stdout"
        }
      ]
    },
    {
      "cell_type": "code",
      "metadata": {
        "colab": {
          "base_uri": "https://localhost:8080/"
        },
        "id": "Ya6nnWgJcUgd",
        "outputId": "d772b33e-518f-408d-94d3-1cda092ad3d4"
      },
      "source": [
        "confusion_matrix(y_pred,y_test)\n"
      ],
      "execution_count": 185,
      "outputs": [
        {
          "output_type": "execute_result",
          "data": {
            "text/plain": [
              "array([[ 8, 11,  8],\n",
              "       [ 0,  0,  0],\n",
              "       [ 0,  0,  0]])"
            ]
          },
          "metadata": {
            "tags": []
          },
          "execution_count": 185
        },
        {
          "output_type": "stream",
          "text": [
            "time: 5.66 ms (started: 2021-04-30 13:22:30 +00:00)\n"
          ],
          "name": "stdout"
        }
      ]
    },
    {
      "cell_type": "code",
      "metadata": {
        "colab": {
          "base_uri": "https://localhost:8080/"
        },
        "id": "g-zNKZ9_02PU",
        "outputId": "9fdbda15-32b8-4986-eef8-39872fb74562"
      },
      "source": [
        "import pickle\n",
        "pickle.dump(clf,open('img_model.p','wb'))"
      ],
      "execution_count": 186,
      "outputs": [
        {
          "output_type": "stream",
          "text": [
            "time: 2.92 ms (started: 2021-04-30 13:22:36 +00:00)\n"
          ],
          "name": "stdout"
        }
      ]
    },
    {
      "cell_type": "code",
      "metadata": {
        "colab": {
          "base_uri": "https://localhost:8080/"
        },
        "id": "KVnR-Chp3Suw",
        "outputId": "eb54bf99-c0f4-4f67-b265-4b0d56a35307"
      },
      "source": [
        "model = pickle.load(open('img_model.p','rb'))"
      ],
      "execution_count": 187,
      "outputs": [
        {
          "output_type": "stream",
          "text": [
            "time: 1.59 ms (started: 2021-04-30 13:22:39 +00:00)\n"
          ],
          "name": "stdout"
        }
      ]
    },
    {
      "cell_type": "code",
      "metadata": {
        "colab": {
          "base_uri": "https://localhost:8080/",
          "height": 338
        },
        "id": "HqS9ceKO3l9t",
        "outputId": "2ef44913-f2a1-4496-806a-8e69ca7c6440"
      },
      "source": [
        "# testing a brand new image\n",
        "flat_data = []\n",
        "url = input('enter your URL')\n",
        "img = imread(url)\n",
        "img_resized = resize(img,(100,100,3))\n",
        "flat_data.append(img_resized.flatten())\n",
        "flat_data = np.array(flat_data)\n",
        "print(img.shape)\n",
        "plt.imshow(img_resized)\n",
        "print(f' PREDICTED OUTPUT:') \n"
      ],
      "execution_count": 206,
      "outputs": [
        {
          "output_type": "stream",
          "text": [
            "enter your URLhttps://5.imimg.com/data5/WO/OO/XB/SELLER-81577759/softy-ice-cream-cone-500x500.jpg\n",
            "(500, 500, 3)\n",
            " PREDICTED OUTPUT:\n"
          ],
          "name": "stdout"
        },
        {
          "output_type": "display_data",
          "data": {
            "image/png": "[encoded data removed]",
            "text/plain": [
              "<Figure size 432x288 with 1 Axes>"
            ]
          },
          "metadata": {
            "tags": [],
            "needs_background": "light"
          }
        },
        {
          "output_type": "stream",
          "text": [
            "time: 7.51 s (started: 2021-04-30 14:23:59 +00:00)\n"
          ],
          "name": "stdout"
        }
      ]
    }
  ]
}